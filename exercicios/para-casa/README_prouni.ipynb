{
 "cells": [
  {
   "cell_type": "markdown",
   "metadata": {},
   "source": [
    "# Base de dados - Prouni\n",
    "\n",
    "### O dataset é formado por informações de pessoas que residem nos estados brasileiros dos os aprovados no programa universidade para todos PROUNI do governo.\n",
    "\n",
    "#### As colunas são:\n",
    "#### ANO_CONCESSAO_BOLSA\n",
    "#### CODIGO_EMEC_IES_BOLSA\n",
    "#### NOME_IES_BOLSA\n",
    "#### TIPO_BOLSA\n",
    "#### MODALIDADE_ENSINO_BOLSA\n",
    "#### NOME_CURSO_BOLSA\n",
    "#### NOME_TURNO_CURSO_BOLSA\n",
    "#### CPF_BENEFICIARIO_BOLSA\n",
    "#### SEXO_BENEFICIARIO_BOLSA\n",
    "#### RACA_BENEFICIARIO_BOLSA\n",
    "#### DT_NASCIMENTO_BENEFICIARIO\n",
    "#### BENEFICIARIO_DEFICIENTE_FISICO\n",
    "#### REGIAO_BENEFICIARIO_BOLSA\n",
    "#### SIGLA_UF_BENEFICIARIO_BOLSA\n",
    "#### MUNICIPIO_BENEFICIARIO_BOLSA\n",
    "#### idade\n",
    "\n"
   ]
  },
  {
   "cell_type": "code",
   "execution_count": null,
   "metadata": {},
   "outputs": [],
   "source": []
  }
 ],
 "metadata": {
  "language_info": {
   "name": "python"
  }
 },
 "nbformat": 4,
 "nbformat_minor": 2
}
